{
  "nbformat": 4,
  "nbformat_minor": 0,
  "metadata": {
    "colab": {
      "provenance": [],
      "authorship_tag": "ABX9TyM5+UsSH63WCoczI33iKEch",
      "include_colab_link": true
    },
    "kernelspec": {
      "name": "python3",
      "display_name": "Python 3"
    },
    "language_info": {
      "name": "python"
    }
  },
  "cells": [
    {
      "cell_type": "markdown",
      "metadata": {
        "id": "view-in-github",
        "colab_type": "text"
      },
      "source": [
        "<a href=\"https://colab.research.google.com/github/zalfajhra/2025_PBO_TI1C/blob/main/jobsheet_02.ipynb\" target=\"_parent\"><img src=\"https://colab.research.google.com/assets/colab-badge.svg\" alt=\"Open In Colab\"/></a>"
      ]
    },
    {
      "cell_type": "markdown",
      "source": [
        "# Praktikum 1: Membuat dan Menggunakan Fungsi"
      ],
      "metadata": {
        "id": "LRLZi66CMY33"
      }
    },
    {
      "cell_type": "code",
      "execution_count": null,
      "metadata": {
        "colab": {
          "base_uri": "https://localhost:8080/"
        },
        "id": "0_8TR5lTMFvJ",
        "outputId": "e8357253-3be1-4bef-b94d-a07c2bf7bcc7"
      },
      "outputs": [
        {
          "output_type": "stream",
          "name": "stdout",
          "text": [
            "Ini adalah contoh fungsi built-in\n",
            "Panjang kata 'Pemrograman' adalah: 11\n",
            "Nilai maksimum dalam daftar [10, 5, 30, 40, 25] adalah: 40\n"
          ]
        }
      ],
      "source": [
        "#Fungsi Built-in\n",
        "#Fungsi print() adalah contoh fungsi bulit-in untuk mencetak output\n",
        "print(\"Ini adalah contoh fungsi built-in\")\n",
        "\n",
        "#Fungsi len() adalah contoh fungsi built-in untuk menghitung panjang suatu objek\n",
        "kata = \"Pemrograman\"\n",
        "panjang_kata = len(kata)\n",
        "print(f\"Panjang kata '{kata}' adalah: {panjang_kata}\")\n",
        "\n",
        "#Fungsi max() adalah contoh fungsi built-in untuk mencari nilai maksimum dari sebuah daftar\n",
        "angka = [10, 5, 30, 40, 25]\n",
        "nilai_max = max(angka)\n",
        "print(f\"Nilai maksimum dalam daftar {angka} adalah: {nilai_max}\")"
      ]
    },
    {
      "cell_type": "code",
      "source": [
        "#Fungsi User-Defined\n",
        "#Fungsi dengan satu parameter (Menerima satu nilai input)\n",
        "def cetak_kuadrat(angka):\n",
        "    #Menghitung kuadrat dari angka yang diterima sebagai parameter\n",
        "    print(f\"Kuadrat dari {angka} adalah: {angka ** 2}\")\n",
        "\n",
        "#Fungsi dengan beberapa parameter (Menerima lebih dari satu nilai input)\n",
        "def hitung_luas_persegi_panjang(panjang, lebar):\n",
        "    #Menghitung luas persegi panjang\n",
        "    return panjang * lebar\n",
        "\n",
        "\n",
        "#Fungsi dengan beberapa tipe parameter (menerima berbagai jenis data)\n",
        "def info_mahasiswa(nama, umur, ipk):\n",
        "    #Mencetak informasi mahasiswa\n",
        "    print(f\"Nama: {nama}, Umur: {umur}, IPK: {ipk}\")\n",
        "\n",
        "#Fungsi tanpa return value (Non-return value)\n",
        "def sapa_pengguna(nama):\n",
        "    #Fungsi ini hanya mencetak sapaan tanpa mengembalikan nilai\n",
        "    print(f\"Halo, {nama}! Selamat datang di dunia Python\")\n",
        "\n",
        "#Fungsi dengan return value\n",
        "def hitung_keliling_persegi(sisi):\n",
        "  #Mengembalikan keliling persegi\n",
        "  return 4 * sisi\n",
        "\n",
        "#Pemanggilan fungsi dengan beberapa parameter\n",
        "luas = hitung_luas_persegi_panjang(10, 5)\n",
        "print(f\"Luas persegi panjang: {luas}\")\n",
        "\n",
        "#Pemanggilan fungsi dengan beberapa tipe parameter\n",
        "info_mahasiswa(\"Budi\", 22, 3.8)\n",
        "\n",
        "#Pemanggilan fungsi tanpa return value\n",
        "sapa_pengguna(\"Andi\")\n",
        "\n",
        "#Pemanggilan fungsi dengan return value\n",
        "keliling = hitung_keliling_persegi(5)\n",
        "print(f\"Keliling persegi dengan sisi 5 adalah: {keliling}\")"
      ],
      "metadata": {
        "colab": {
          "base_uri": "https://localhost:8080/"
        },
        "id": "yFqic3OUQHp0",
        "outputId": "ea3439d6-33ab-46eb-8d76-a1a03108d68c"
      },
      "execution_count": null,
      "outputs": [
        {
          "output_type": "stream",
          "name": "stdout",
          "text": [
            "Luas persegi panjang: 50\n",
            "Nama: Budi, Umur: 22, IPK: 3.8\n",
            "Halo, Andi! Selamat datang di dunia Python\n",
            "Keliling persegi dengan sisi 5 adalah: 20\n"
          ]
        }
      ]
    },
    {
      "cell_type": "markdown",
      "source": [
        "# Praktikum 2: Modularisasi Kode dengan Fungsi"
      ],
      "metadata": {
        "id": "piM5xzBmSpZ7"
      }
    },
    {
      "cell_type": "code",
      "source": [
        "# File utama main.py yang mengimpor modul geometri.py\n",
        "\n",
        "# Mengimpor modul geometri\n",
        "import geometri\n",
        "\n",
        "def main():\n",
        "# Menggunakan fungsi dari modul meong\n",
        "    luas_persegi = geometri.hitung_luas_persegi(5)\n",
        "    print(f\"Luas persegi dengan sisi 5 adalah: {luas_persegi}\")\n",
        "\n",
        "    luas_persegi_panjang = geometri.hitung_luas_persegi_panjang(10, 5)\n",
        "    print(f\"Luas persegi panjang dengan panjang 10 dan lebar 5 adalah: {luas_persegi_panjang}\")\n",
        "\n",
        "    luas_lingkaran = geometri.hitung_luas_lingkaran(7)\n",
        "    print(f\"Luas lingkaran dengan jari-jari 7 adalah: {luas_lingkaran}\")\n",
        "\n",
        "if __name__ == \"__main__\": main()"
      ],
      "metadata": {
        "colab": {
          "base_uri": "https://localhost:8080/"
        },
        "id": "2hMs23wYWRyw",
        "outputId": "73a32ea6-9a3a-425f-8911-bc5d1b6b92d9"
      },
      "execution_count": null,
      "outputs": [
        {
          "output_type": "stream",
          "name": "stdout",
          "text": [
            "Luas persegi dengan sisi 5 adalah: 25\n",
            "Luas persegi panjang dengan panjang 10 dan lebar 5 adalah: 50\n",
            "Luas lingkaran dengan jari-jari 7 adalah: 153.86\n"
          ]
        }
      ]
    },
    {
      "cell_type": "markdown",
      "source": [
        "# Praktikum 3: Membuat Kelas Sederhana"
      ],
      "metadata": {
        "id": "M4crH0wraWJQ"
      }
    },
    {
      "cell_type": "code",
      "source": [
        "# Kelas Buku untuk merepresentasikan buku di perpustakaan\n",
        "class Buku:\n",
        "    def __init__(self, judul, pengarang, tahun_terbit):\n",
        "        self.judul = judul\n",
        "        self.pengarang = pengarang\n",
        "        self.tahun_terbit = tahun_terbit\n",
        "        self.status = \"Tersedia\" # Status buku, default adalah Tersedia\n",
        "\n",
        "    def tampilkan_info(self):\n",
        "        print(f\"Judul: {self.judul}\")\n",
        "        print(f\"Pengarang: {self.pengarang}\")\n",
        "        print(f\"Tahun Terbit: {self.tahun_terbit}\")\n",
        "        print(f\"Status: {self.status}\")\n",
        "\n",
        "    def pinjam(self):\n",
        "        if self.status == \"Tersedia\":\n",
        "          self.status = \"Dipinjam\"\n",
        "          print(f\"Buku '{self.judul}' telah dipinjam.\")\n",
        "        else:\n",
        "            print(f\"Buku '{self.judul}' sedang dipinjam.\")\n",
        "\n",
        "    def kembalikan(self):\n",
        "        if self.status == \"Dipinjam\":\n",
        "          self.status = \"Tersedia\"\n",
        "          print(f\"Buku '{self.judul}' telah dikembalikan.\")\n",
        "        else:\n",
        "            print(f\"Buku '{self.judul}' tidak sedang dipinjam.\")\n",
        "\n",
        "# Membuat objek dari kelas Buku\n",
        "buku1 = Buku(\"Pemrograman Python\", \"John Doe\", 2021)\n",
        "buku2 = Buku(\"Data Science untuk Pemula\", \"Jane Smith\", 2020)\n",
        "\n",
        "# Menggunakan metode objek Buku\n",
        "buku1.tampilkan_info()\n",
        "buku2.pinjam()\n",
        "\n",
        "# Mengubah status buku dan menampilkan informasi\n",
        "buku2.kembalikan()\n",
        "buku1.pinjam()\n",
        "buku1.tampilkan_info()\n",
        "\n",
        "\n",
        "# Kelas Mahasiswa untuk merepresentasikan Mahasiswa dalam kelas\n",
        "\n",
        "# Definisi kelas\n",
        "class Mahasiswa:\n",
        "    # Konstruktor (__init__) untuk menginisialisasi atribut objek\n",
        "    def __init__(self, nama, nim, umur):\n",
        "        self.nama = nama # Atribut objek nama\n",
        "        self.nim = nim # Atribut objek nim\n",
        "        self.umur = umur # Atribut objek umur\n",
        "\n",
        "    # Metode untuk menampilkan informasi mahasiswa\n",
        "    def tampilkan_info(self):\n",
        "        print(f\"Nama: {self.nama}\")\n",
        "        print(f\"NIM: {self.nim}\")\n",
        "        print(f\"Umur: {self.umur} tahun\")\n",
        "\n",
        "    # Metode untuk merubah umur mahasiswa\n",
        "    def ubah_umur(self, umur_baru):\n",
        "        self.umur = umur_baru\n",
        "\n",
        "# Membuat objek (instance) dari kelas Mahasiswa\n",
        "mahasiswa1 = Mahasiswa(\"Andi\", \"12345\", 20)\n",
        "mahasiswa2 = Mahasiswa(\"Budi\", \"67890\", 22)\n",
        "\n",
        "# Menggunakan metode dari kelas Mahasiswa\n",
        "mahasiswa1.tampilkan_info()\n",
        "print() # Baris kosong\n",
        "mahasiswa2.tampilkan_info()\n",
        "\n",
        "# Mengubah umur mahasiswa1 menggunakan metode ubah_umur\n",
        "mahasiswa1.ubah_umur(21)\n",
        "\n",
        "# Menampilkan info mahasiswa setelah umur diubah\n",
        "print(\"\\nSetelah mengubah umur mahasiswa1:\")\n",
        "mahasiswa1.tampilkan_info()"
      ],
      "metadata": {
        "colab": {
          "base_uri": "https://localhost:8080/"
        },
        "id": "w1xZ-JS8aa0O",
        "outputId": "3f6b6dd7-3f11-471b-b72c-4ac7a660ddfc"
      },
      "execution_count": null,
      "outputs": [
        {
          "output_type": "stream",
          "name": "stdout",
          "text": [
            "Judul: Pemrograman Python\n",
            "Pengarang: John Doe\n",
            "Tahun Terbit: 2021\n",
            "Status: Tersedia\n",
            "Buku 'Data Science untuk Pemula' telah dipinjam.\n",
            "Buku 'Data Science untuk Pemula' telah dikembalikan.\n",
            "Buku 'Pemrograman Python' telah dipinjam.\n",
            "Judul: Pemrograman Python\n",
            "Pengarang: John Doe\n",
            "Tahun Terbit: 2021\n",
            "Status: Dipinjam\n",
            "Nama: Andi\n",
            "NIM: 12345\n",
            "Umur: 20 tahun\n",
            "\n",
            "Nama: Budi\n",
            "NIM: 67890\n",
            "Umur: 22 tahun\n",
            "\n",
            "Setelah mengubah umur mahasiswa1:\n",
            "Nama: Andi\n",
            "NIM: 12345\n",
            "Umur: 21 tahun\n"
          ]
        }
      ]
    },
    {
      "cell_type": "markdown",
      "source": [
        "# Praktikum 4: Membuat dan Menggunakan Method dalam Kelas"
      ],
      "metadata": {
        "id": "2PZpjJLUcanM"
      }
    },
    {
      "cell_type": "code",
      "source": [
        "# Kelas untuk menjelaskan atribut dan metode dalam kelas\n",
        "class Mobil:\n",
        "    def __init__(self, merk, warna, tahun, harga):\n",
        "      # Atribut yang dimiliki oleh objek Mobil\n",
        "        self.merk = merk\n",
        "        self.warna = warna\n",
        "        self.tahun = tahun\n",
        "        self.harga = harga\n",
        "\n",
        "    # Fungsi tanpa return value, hanya mencetak informasi\n",
        "    def tampilkan_info(self):\n",
        "              print(f\"Mobil {self.merk} berwarna {self.warna}, tahun {self.tahun}, harga: Rp {self.harga}\")\n",
        "\n",
        "    # Fungsi dengan satu parameter\n",
        "    def diskon(self, persen_diskon):\n",
        "        # Menghitung harga setelah diskon\n",
        "        diskon_harga = self.harga * (persen_diskon / 100)\n",
        "        harga_setelah_diskon = self.harga - diskon_harga\n",
        "        print(f\"Harga setelah diskon{persen_diskon}%: Rp {harga_setelah_diskon}\")\n",
        "        # Tidak mengembalikan nilai, hanya mencetak harga setelah diskon\n",
        "\n",
        "    # Fungsi dengan return value, menghitung usia mobil berdasarkan tahun\n",
        "    def hitung_usia(self, tahun_sekarang):\n",
        "      usia = tahun_sekarang - self.tahun\n",
        "      return usia\n",
        "\n",
        "    # Fungsi dengan beberapa parameter\n",
        "    def perbarui_harga(self, harga_baru, tahun_baru):\n",
        "        self.harga = harga_baru\n",
        "        self.tahun = tahun_baru\n",
        "        print(f\"Harga dan tahun mobil {self.merk} diperbarui menjadi Rp {self.harga} dan tahun {self.tahun}\")\n",
        "\n",
        "# Membuat objek mobil\n",
        "mobil1 = Mobil(\"Toyota\", \"Hitam\", 2015, 300000000)\n",
        "mobil2 = Mobil(\"Honda\", \"Merah\", 2018, 250000000)\n",
        "\n",
        "# Menggunakan metode tanpa return value\n",
        "mobil1.tampilkan_info()\n",
        "mobil2.tampilkan_info()\n",
        "\n",
        "# Menggunakan metode dengan satu parameter (diskon)\n",
        "mobil1.diskon(10)\n",
        "mobil2.diskon(15)\n",
        "\n",
        "# Menggunakan metode dengan return value (hitung usia mobil)\n",
        "usia_mobil1 = mobil1.hitung_usia(2025)\n",
        "usia_mobil2 = mobil2.hitung_usia(2025)\n",
        "\n",
        "print(f\"Usia mobil1 pada tahun 2025: {usia_mobil1} tahun\")\n",
        "print(f\"Usia mobil2 pada tahun 2025: {usia_mobil2} tahun\")\n",
        "\n",
        "# Menggunakan metode dengan beberapa parameter (perbarui harga dan tahun)\n",
        "mobil1.perbarui_harga(280000000, 2022)\n",
        "mobil2.perbarui_harga(240000000, 2021)"
      ],
      "metadata": {
        "colab": {
          "base_uri": "https://localhost:8080/"
        },
        "id": "XeyCVcoDcjKH",
        "outputId": "bf0d9477-2759-42f5-a65f-600d1a13f1bb"
      },
      "execution_count": null,
      "outputs": [
        {
          "output_type": "stream",
          "name": "stdout",
          "text": [
            "Mobil Toyota berwarna Hitam, tahun 2015, harga: Rp 300000000\n",
            "Mobil Honda berwarna Merah, tahun 2018, harga: Rp 250000000\n",
            "Harga setelah diskon10%: Rp 270000000.0\n",
            "Harga setelah diskon15%: Rp 212500000.0\n",
            "Usia mobil1 pada tahun 2025: 10 tahun\n",
            "Usia mobil2 pada tahun 2025: 7 tahun\n",
            "Harga dan tahun mobil Toyota diperbarui menjadi Rp 280000000 dan tahun 2022\n",
            "Harga dan tahun mobil Honda diperbarui menjadi Rp 240000000 dan tahun 2021\n"
          ]
        }
      ]
    },
    {
      "cell_type": "markdown",
      "source": [
        "# Tugas Pemrograman: Penjualan"
      ],
      "metadata": {
        "id": "54BbEZVDY2-U"
      }
    },
    {
      "cell_type": "code",
      "source": [
        "from menu import Menu\n",
        "from order import Order\n",
        "\n",
        "# Membuat menu makanan\n",
        "menu = Menu()\n",
        "menu.add_item(\"Nasi Goreng\", 25000)\n",
        "menu.add_item(\"Mie Ayam\", 18000)\n",
        "menu.add_item(\"Ayam Geprek\", 22000)\n",
        "menu.add_item(\"Es Teh Manis\", 5000)\n",
        "menu.add_item(\"Jus Alpukat\", 15000)\n",
        "\n",
        "# Membuat pesanan\n",
        "order = Order()\n",
        "\n",
        "while True:\n",
        "    menu.show_menu()\n",
        "    choice = input(\"\\nPilih nomor menu (atau ketik '0' untuk selesai): \")\n",
        "\n",
        "    if choice == \"0\":\n",
        "        break\n",
        "\n",
        "    if choice.isdigit():\n",
        "        choice = int(choice)\n",
        "        item = menu.get_item(choice)\n",
        "        if item:\n",
        "            qty = int(input(f\"Berapa porsi {item.name}? \"))\n",
        "            order.add_order(item, qty)\n",
        "            print(f\"{item.name} x{qty} ditambahkan ke pesanan!\\n\")\n",
        "        else:\n",
        "            print(\"Menu tidak ditemukan, coba lagi.\\n\")\n",
        "    else:\n",
        "        print(\"Input tidak valid, masukkan nomor menu.\\n\")\n",
        "\n",
        "order.show_order()\n",
        "print(\"\\nTerima kasih telah memesan!\")"
      ],
      "metadata": {
        "id": "DAitD2qlY8Do",
        "outputId": "defce532-e9c1-49a2-a947-22f188b565f0",
        "colab": {
          "base_uri": "https://localhost:8080/"
        }
      },
      "execution_count": 3,
      "outputs": [
        {
          "output_type": "stream",
          "name": "stdout",
          "text": [
            "\n",
            "=== MENU MAKANAN ===\n",
            "1. Nasi Goreng - Rp25,000\n",
            "2. Mie Ayam - Rp18,000\n",
            "3. Ayam Geprek - Rp22,000\n",
            "4. Es Teh Manis - Rp5,000\n",
            "5. Jus Alpukat - Rp15,000\n",
            "\n",
            "Pilih nomor menu (atau ketik '0' untuk selesai): 1\n",
            "Berapa porsi Nasi Goreng? 2\n",
            "Nasi Goreng x2 ditambahkan ke pesanan!\n",
            "\n",
            "\n",
            "=== MENU MAKANAN ===\n",
            "1. Nasi Goreng - Rp25,000\n",
            "2. Mie Ayam - Rp18,000\n",
            "3. Ayam Geprek - Rp22,000\n",
            "4. Es Teh Manis - Rp5,000\n",
            "5. Jus Alpukat - Rp15,000\n",
            "\n",
            "Pilih nomor menu (atau ketik '0' untuk selesai): 2\n",
            "Berapa porsi Mie Ayam? 2\n",
            "Mie Ayam x2 ditambahkan ke pesanan!\n",
            "\n",
            "\n",
            "=== MENU MAKANAN ===\n",
            "1. Nasi Goreng - Rp25,000\n",
            "2. Mie Ayam - Rp18,000\n",
            "3. Ayam Geprek - Rp22,000\n",
            "4. Es Teh Manis - Rp5,000\n",
            "5. Jus Alpukat - Rp15,000\n",
            "\n",
            "Pilih nomor menu (atau ketik '0' untuk selesai): 3\n",
            "Berapa porsi Ayam Geprek? 1\n",
            "Ayam Geprek x1 ditambahkan ke pesanan!\n",
            "\n",
            "\n",
            "=== MENU MAKANAN ===\n",
            "1. Nasi Goreng - Rp25,000\n",
            "2. Mie Ayam - Rp18,000\n",
            "3. Ayam Geprek - Rp22,000\n",
            "4. Es Teh Manis - Rp5,000\n",
            "5. Jus Alpukat - Rp15,000\n",
            "\n",
            "Pilih nomor menu (atau ketik '0' untuk selesai): 4\n",
            "Berapa porsi Es Teh Manis? 3\n",
            "Es Teh Manis x3 ditambahkan ke pesanan!\n",
            "\n",
            "\n",
            "=== MENU MAKANAN ===\n",
            "1. Nasi Goreng - Rp25,000\n",
            "2. Mie Ayam - Rp18,000\n",
            "3. Ayam Geprek - Rp22,000\n",
            "4. Es Teh Manis - Rp5,000\n",
            "5. Jus Alpukat - Rp15,000\n",
            "\n",
            "Pilih nomor menu (atau ketik '0' untuk selesai): 5\n",
            "Berapa porsi Jus Alpukat? 2\n",
            "Jus Alpukat x2 ditambahkan ke pesanan!\n",
            "\n",
            "\n",
            "=== MENU MAKANAN ===\n",
            "1. Nasi Goreng - Rp25,000\n",
            "2. Mie Ayam - Rp18,000\n",
            "3. Ayam Geprek - Rp22,000\n",
            "4. Es Teh Manis - Rp5,000\n",
            "5. Jus Alpukat - Rp15,000\n",
            "\n",
            "Pilih nomor menu (atau ketik '0' untuk selesai): 0\n",
            "\n",
            "=== PESANAN ANDA ===\n",
            "Nasi Goreng x2 - Rp50,000\n",
            "Mie Ayam x2 - Rp36,000\n",
            "Ayam Geprek x1 - Rp22,000\n",
            "Es Teh Manis x3 - Rp15,000\n",
            "Jus Alpukat x2 - Rp30,000\n",
            "\n",
            "Total Harga: Rp153,000\n",
            "\n",
            "Terima kasih telah memesan!\n"
          ]
        }
      ]
    }
  ]
}