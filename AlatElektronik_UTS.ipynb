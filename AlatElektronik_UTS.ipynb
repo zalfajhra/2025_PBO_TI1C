{
  "nbformat": 4,
  "nbformat_minor": 0,
  "metadata": {
    "colab": {
      "provenance": [],
      "authorship_tag": "ABX9TyPngHWNpuWgk2PvWxq2/z/v",
      "include_colab_link": true
    },
    "kernelspec": {
      "name": "python3",
      "display_name": "Python 3"
    },
    "language_info": {
      "name": "python"
    }
  },
  "cells": [
    {
      "cell_type": "markdown",
      "metadata": {
        "id": "view-in-github",
        "colab_type": "text"
      },
      "source": [
        "<a href=\"https://colab.research.google.com/github/zalfajhra/2025_PBO_TI1C/blob/main/AlatElektronik_UTS.ipynb\" target=\"_parent\"><img src=\"https://colab.research.google.com/assets/colab-badge.svg\" alt=\"Open In Colab\"/></a>"
      ]
    },
    {
      "cell_type": "code",
      "execution_count": 8,
      "metadata": {
        "id": "R8y4VzldZsU4",
        "colab": {
          "base_uri": "https://localhost:8080/"
        },
        "outputId": "43a26a10-01ff-47bc-beee-877c6fad57b2"
      },
      "outputs": [
        {
          "output_type": "stream",
          "name": "stdout",
          "text": [
            "=== Info Perangkat Elektronik ===\n",
            "\n",
            "TV Merk: Samsung, Model: QLED 4K, Ukuran Layar: 55 inch\n",
            "Samsung QLED 4K dinyalakan.\n",
            "Televisi Samsung QLED 4K mengganti ke channel 12\n",
            "Samsung QLED 4K dimatikan.\n",
            "\n",
            "Radio Merk: Sony, Model: ICF-506, Frekuensi: 98.7 MHz\n",
            "Sony ICF-506 dinyalakan.\n",
            "Radio Sony ICF-506 mengubah frekuensi ke 101.2 Mhz\n",
            "Sony ICF-506 dimatikan.\n"
          ]
        }
      ],
      "source": [
        "class AlatElektronik:\n",
        "  def __init__(self, merk, model):\n",
        "    self.merk = merk\n",
        "    self.model = model\n",
        "    self._status_daya = False\n",
        "\n",
        "  def nyalakan(self):\n",
        "    self._status_daya = True\n",
        "    print(f\"{self.merk} {self.model} dinyalakan.\")\n",
        "\n",
        "  def matikan(self):\n",
        "    self._status_daya = False\n",
        "    print(f\"{self.merk} {self.model} dimatikan.\")\n",
        "\n",
        "  def get_info(self):\n",
        "    print(f\"Merk: {self.merk}, Model: {self.model}\")\n",
        "\n",
        "class Televisi(AlatElektronik):\n",
        "  def __init__(self, merk, model, ukuran_layar):\n",
        "    super().__init__(merk, model)\n",
        "    self.ukuran_layar = ukuran_layar\n",
        "\n",
        "  def get_info(self):\n",
        "    print(f\"TV Merk: {self.merk}, Model: {self.model}, Ukuran Layar: {self.ukuran_layar} inch\")\n",
        "\n",
        "  def ganti_channel(self, channel):\n",
        "    if self._status_daya:\n",
        "      print(f\"Televisi {self.merk} {self.model} mengganti ke channel {channel}\")\n",
        "    else:\n",
        "      print(f\"Televisi {self.merk} tidak bisa ganti channel karena dalam keadaan mati.\")\n",
        "\n",
        "class Radio(AlatElektronik):\n",
        "  def __init__(self, merk, model, frekuensi):\n",
        "    super().__init__(merk, model)\n",
        "    self.frekuensi = frekuensi\n",
        "\n",
        "  def get_info(self):\n",
        "    print(f\"Radio Merk: {self.merk}, Model: {self.model}, Frekuensi: {self.frekuensi} MHz\")\n",
        "\n",
        "  def set_frekuensi(self, frekuensi_baru):\n",
        "    if self._status_daya:\n",
        "      self.frekuensi = frekuensi_baru\n",
        "      print(f\"Radio {self.merk} {self.model} mengubah frekuensi ke {self.frekuensi} Mhz\")\n",
        "    else:\n",
        "      print(f\"Radio {self.merk} {self.model} tidak bisa mengubah frekuensi karena dalam keadaan mati.\")\n",
        "\n",
        "# Demonstrasi penggunaan\n",
        "if __name__ == \"__main__\":\n",
        "  print(\"=== Info Perangkat Elektronik ===\")\n",
        "  print()\n",
        "\n",
        "  samsung = Televisi(\"Samsung\", \"QLED 4K\", 55)\n",
        "  samsung.get_info()\n",
        "  samsung.nyalakan()\n",
        "  samsung.ganti_channel(12)\n",
        "  samsung.matikan ()\n",
        "  print()\n",
        "  sony = Radio(\"Sony\", \"ICF-506\", 98.7)\n",
        "  sony.get_info()\n",
        "  sony.nyalakan()\n",
        "  sony.set_frekuensi(101.2)\n",
        "  sony.matikan()"
      ]
    }
  ]
}